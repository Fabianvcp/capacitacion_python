{
 "cells": [
  {
   "cell_type": "markdown",
   "metadata": {},
   "source": [
    "# Tarea"
   ]
  },
  {
   "cell_type": "markdown",
   "metadata": {},
   "source": [
    "1. Escriba un programa que realice el cálculo de la superficie de un círculo dado su radio, para implementarlo utilice una función lambda."
   ]
  },
  {
   "cell_type": "code",
   "execution_count": null,
   "metadata": {},
   "outputs": [],
   "source": [
    "calcular_superficie = lambda radio: 3.14159265359 * radio**2\n",
    "\n",
    "radio = float(input(\"Ingrese el radio del círculo: \"))\n",
    "superficie = calcular_superficie(radio)\n",
    "print(f\"La superficie del círculo con radio {radio} es {superficie}\")\n"
   ]
  },
  {
   "cell_type": "markdown",
   "metadata": {},
   "source": [
    "2. Dada una lista de números enteros (puede ser fija o ingresada manualmente), usa la\n",
    "función map y una función lambda para crear una nueva lista que contenga solo los\n",
    "números pares de la lista original."
   ]
  },
  {
   "cell_type": "code",
   "execution_count": null,
   "metadata": {},
   "outputs": [],
   "source": [
    "numeros = [1, 2, 3, 4, 5, 6, 7, 8, 9, 10]\n",
    "numeros_pares = list(filter(lambda x: x % 2 == 0, numeros))\n",
    "print(\"Números pares:\", numeros_pares)\n"
   ]
  },
  {
   "cell_type": "markdown",
   "metadata": {},
   "source": [
    "3. Dada una lista de tuplas donde cada tupla contiene dos números, ordena la lista de tuplas basándote en el segundo elemento de cada tupla utilizando la función sorted y una función lambda [(3, 5), (6, 2), (9, 7), (4, 1), (8, 6), (7, 3)]"
   ]
  },
  {
   "cell_type": "code",
   "execution_count": 4,
   "metadata": {},
   "outputs": [
    {
     "name": "stdout",
     "output_type": "stream",
     "text": [
      "Tuplas ordenadas por el segundo elemento: [(4, 1), (6, 2), (7, 3), (3, 5), (8, 6), (9, 7)]\n"
     ]
    }
   ],
   "source": [
    "tuplas = [(3, 5), (6, 2), (9, 7), (4, 1), (8, 6), (7, 3)]\n",
    "tuplas_ordenadas = sorted(tuplas, key=lambda x: x[1])\n",
    "print(\"Tuplas ordenadas por el segundo elemento:\", tuplas_ordenadas)\n"
   ]
  },
  {
   "cell_type": "markdown",
   "metadata": {},
   "source": [
    "4. Dado un diccionario donde las claves son nombres de personas y los valores son sus edades, utiliza un diccionario de comprensión y una función lambda para modificar el\n",
    "diccionario de manera que las edades se incrementen en 1 {‘Miguel’: 20, ‘Norma’: 25, ‘Elizabeth’: 19, ‘Esteban’: 31, ‘Jorge’: 21}"
   ]
  },
  {
   "cell_type": "code",
   "execution_count": null,
   "metadata": {},
   "outputs": [],
   "source": [
    "edades = {'Miguel': 20, 'Norma': 25, 'Elizabeth': 19, 'Esteban': 31, 'Jorge': 21}\n",
    "edades_incrementadas = {nombre: edad + 1 for nombre, edad in edades.items()}\n",
    "print(\"Edades incrementadas:\", edades_incrementadas)\n"
   ]
  },
  {
   "cell_type": "markdown",
   "metadata": {},
   "source": [
    "5. Escriba un programa para implementar una calculadora simple con operaciones de suma, resta, multiplicación y división. Cada operación debe ser implementada utilizando una\n",
    "función lambda. El usuario debe elegir una de las operaciones a realizar, o abandonar el programa, seleccionada una de las operaciones debe solicitarle el ingreso de dos\n",
    "números para realizar con ellos la operación seleccionada. La calculadora debe continuar ejecutándose y pidiendo más operaciones hasta que el usuario decida salir."
   ]
  },
  {
   "cell_type": "code",
   "execution_count": null,
   "metadata": {},
   "outputs": [],
   "source": [
    "suma = lambda x, y: x + y\n",
    "resta = lambda x, y: x - y\n",
    "multiplicacion = lambda x, y: x * y\n",
    "division = lambda x, y: x / y\n",
    "\n",
    "while True:\n",
    "    print(\"Operaciones disponibles:\")\n",
    "    print(\"1. Suma\")\n",
    "    print(\"2. Resta\")\n",
    "    print(\"3. Multiplicación\")\n",
    "    print(\"4. División\")\n",
    "    print(\"5. Salir\")\n",
    "    \n",
    "    opcion = input(\"Seleccione una operación (1/2/3/4/5): \")\n",
    "    \n",
    "    if opcion == '5':\n",
    "        break\n",
    "    \n",
    "    if opcion in ('1', '2', '3', '4'):\n",
    "        num1 = float(input(\"Ingrese el primer número: \"))\n",
    "        num2 = float(input(\"Ingrese el segundo número: \"))\n",
    "        \n",
    "        if opcion == '1':\n",
    "            resultado = suma(num1, num2)\n",
    "            print(f\"Resultado: {resultado}\")\n",
    "        elif opcion == '2':\n",
    "            resultado = resta(num1, num2)\n",
    "            print(f\"Resultado: {resultado}\")\n",
    "        elif opcion == '3':\n",
    "            resultado = multiplicacion(num1, num2)\n",
    "            print(f\"Resultado: {resultado}\")\n",
    "        elif opcion == '4':\n",
    "            if num2 == 0:\n",
    "                print(\"Error: No se puede dividir por cero.\")\n",
    "            else:\n",
    "                resultado = division(num1, num2)\n",
    "                print(f\"Resultado: {resultado}\")\n",
    "    else:\n",
    "        print(\"Opción no válida. Intente nuevamente.\")\n"
   ]
  }
 ],
 "metadata": {
  "kernelspec": {
   "display_name": "Python 3",
   "language": "python",
   "name": "python3"
  },
  "language_info": {
   "codemirror_mode": {
    "name": "ipython",
    "version": 3
   },
   "file_extension": ".py",
   "mimetype": "text/x-python",
   "name": "python",
   "nbconvert_exporter": "python",
   "pygments_lexer": "ipython3",
   "version": "3.10.12"
  },
  "orig_nbformat": 4
 },
 "nbformat": 4,
 "nbformat_minor": 2
}
