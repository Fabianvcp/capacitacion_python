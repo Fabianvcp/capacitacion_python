{
 "cells": [
  {
   "cell_type": "markdown",
   "metadata": {},
   "source": [
    "1. Escriba un programa que simule la tirada de dos dados, cree un bucle con las opciones\n",
    "de tirar dados o salir, cada vez que se seleccione “tirar” debe mostrar un resultado\n",
    "aleatorio de los datos. Utilice el módulo random importando la función que necesite."
   ]
  },
  {
   "cell_type": "code",
   "execution_count": null,
   "metadata": {},
   "outputs": [],
   "source": [
    "import random\n",
    "\n",
    "while True:\n",
    "    opcion = input(\"Tirar los dados (s) o salir (q): \").lower()\n",
    "    \n",
    "    if opcion == 'q':\n",
    "        break\n",
    "    elif opcion == 's':\n",
    "        dado1 = random.randint(1, 6)\n",
    "        dado2 = random.randint(1, 6)\n",
    "        print(f\"Dado 1: {dado1} - Dado 2: {dado2}\")\n",
    "    else:\n",
    "        print(\"Opción no válida. Intente nuevamente.\")\n"
   ]
  },
  {
   "cell_type": "markdown",
   "metadata": {},
   "source": [
    "2. Escriba un programa que simule la tirada de dos dados, cree un bucle con las opciones\n",
    "de tirar dados o salir, cada vez que se seleccione “tirar” debe mostrar un resultado\n",
    "aleatorio de los datos. Utilice el módulo random importando la función que necesite."
   ]
  },
  {
   "cell_type": "code",
   "execution_count": null,
   "metadata": {},
   "outputs": [],
   "source": [
    "import math\n",
    "\n",
    "hipotenusa = float(input(\"Ingrese la medida de la hipotenusa: \"))\n",
    "angulo = float(input(\"Ingrese el ángulo (en grados, menor a 90): \"))\n",
    "\n",
    "if angulo >= 90:\n",
    "    print(\"El ángulo debe ser menor a 90 grados.\")\n",
    "else:\n",
    "    radianes = math.radians(angulo)\n",
    "    cateto_opuesto = hipotenusa * math.sin(radianes)\n",
    "    cateto_adyacente = hipotenusa * math.cos(radianes)\n",
    "\n",
    "    print(f\"Cateto opuesto: {cateto_opuesto:.2f}\")\n",
    "    print(f\"Cateto adyacente: {cateto_adyacente:.2f}\")\n"
   ]
  }
 ],
 "metadata": {
  "language_info": {
   "name": "python"
  },
  "orig_nbformat": 4
 },
 "nbformat": 4,
 "nbformat_minor": 2
}
