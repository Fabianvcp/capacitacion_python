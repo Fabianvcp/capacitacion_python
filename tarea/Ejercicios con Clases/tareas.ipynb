{
 "cells": [
  {
   "cell_type": "markdown",
   "metadata": {},
   "source": [
    "1. Escriba un programa que defina una clase llamada \"Estudiante\" con un atributo\n",
    "\"nombre\", debe tener un método que imprima el nombre del estudiante. Instancie un\n",
    "objeto de esta clase con un nombre inicial, luego utilizando el método, imprima el\n",
    "nombre del estudiante."
   ]
  },
  {
   "cell_type": "code",
   "execution_count": null,
   "metadata": {},
   "outputs": [],
   "source": [
    "class Estudiante:\n",
    "    def __init__(self, nombre):\n",
    "        self.nombre = nombre\n",
    "\n",
    "    def imprimir_nombre(self):\n",
    "        print(\"Nombre del estudiante:\", self.nombre)\n",
    "\n",
    "# Instanciar un objeto de la clase \"Estudiante\"\n",
    "estudiante = Estudiante(\"Juan\")\n",
    "estudiante.imprimir_nombre()\n"
   ]
  },
  {
   "cell_type": "markdown",
   "metadata": {},
   "source": [
    "2. Escriba un programa que defina una clase llamada \"Rectangulo\" con atributos \"largo\" y\n",
    "\"ancho\". Añada un método que calcule el área del rectángulo. Instancie un objeto de este\n",
    "tipo con los valores de largo y ancho, luego imprima el valor del área."
   ]
  },
  {
   "cell_type": "code",
   "execution_count": null,
   "metadata": {},
   "outputs": [],
   "source": [
    "class Rectangulo:\n",
    "    def __init__(self, largo, ancho):\n",
    "        self.largo = largo\n",
    "        self.ancho = ancho\n",
    "\n",
    "    def calcular_area(self):\n",
    "        return self.largo * self.ancho\n",
    "\n",
    "# Instanciar un objeto de la clase \"Rectangulo\"\n",
    "rectangulo = Rectangulo(5, 10)\n",
    "area = rectangulo.calcular_area()\n",
    "print(\"Área del rectángulo:\", area)\n"
   ]
  },
  {
   "cell_type": "markdown",
   "metadata": {},
   "source": [
    "3. Escriba un programa que defina una clase llamada \"Circulo\" con un atributo \"radio\".\n",
    "Agregue un método para indicar el radio del círculo (set_radio) y otro método para\n",
    "obtener el área del círculo (get_area). Pida al usuario que ingrese un radio, instancie un\n",
    "objeto de este tipo, luego defina el radio con el método de definición del radio (set) y\n",
    "finalmente imprima el área."
   ]
  },
  {
   "cell_type": "code",
   "execution_count": null,
   "metadata": {},
   "outputs": [],
   "source": [
    "class Circulo:\n",
    "    def __init__(self):\n",
    "        self.radio = 0\n",
    "\n",
    "    def set_radio(self, radio):\n",
    "        self.radio = radio\n",
    "\n",
    "    def get_area(self):\n",
    "        import math\n",
    "        return math.pi * self.radio**2\n",
    "\n",
    "circulo = Circulo()\n",
    "radio = float(input(\"Ingrese el radio del círculo: \"))\n",
    "circulo.set_radio(radio)\n",
    "area = circulo.get_area()\n",
    "print(\"Área del círculo:\", area)\n"
   ]
  },
  {
   "cell_type": "markdown",
   "metadata": {},
   "source": [
    "4. Escriba un programa que defina una clase llamada \"Compras\" que tenga un atributo de\n",
    "tipo lista llamado “lista”, para almacenar cadenas de texto correspondientes a ítems de un\n",
    "listado de compras. Añada métodos para agregar un elemento (add_item), otro para\n",
    "eliminar (del_item) un elemento por su nombre y otro para mostrar los elementos de la\n",
    "lista. Instancie un objeto de este tipo, agregue 4 ítems, luego borre el primero y el tercero\n",
    "y finalmente imprima la lista como haya quedado."
   ]
  },
  {
   "cell_type": "code",
   "execution_count": null,
   "metadata": {},
   "outputs": [],
   "source": [
    "class Compras:\n",
    "    def __init__(self):\n",
    "        self.lista = []\n",
    "\n",
    "    def add_item(self, item):\n",
    "        self.lista.append(item)\n",
    "\n",
    "    def del_item(self, item):\n",
    "        if item in self.lista:\n",
    "            self.lista.remove(item)\n",
    "\n",
    "    def mostrar_lista(self):\n",
    "        print(\"Lista de compras:\")\n",
    "        for item in self.lista:\n",
    "            print(item)\n",
    "\n",
    "compras = Compras()\n",
    "compras.add_item(\"Leche\")\n",
    "compras.add_item(\"Pan\")\n",
    "compras.add_item(\"Manzanas\")\n",
    "compras.add_item(\"Jabón\")\n",
    "compras.del_item(\"Leche\")\n",
    "compras.del_item(\"Manzanas\")\n",
    "compras.mostrar_lista()\n"
   ]
  },
  {
   "cell_type": "markdown",
   "metadata": {},
   "source": [
    "5. Escriba un programa que defina una clase llamada \"Stock\" que tenga un atributo de\n",
    "diccionario. Añada métodos, uno para agregar elementos con su cantidad, otro método\n",
    "eliminar un elemento por su nombre, y otro que devuelva el diccionario. Instancie un\n",
    "objeto con el diccionario vacío, luego cargue 5 elementos con una cantidad, luego\n",
    "elimine 2 elementos del stock y finalmente extraiga el diccionario e imprima los\n",
    "elementos que quedaron de forma tabular, nombre y cantidad."
   ]
  },
  {
   "cell_type": "code",
   "execution_count": null,
   "metadata": {},
   "outputs": [],
   "source": [
    "class Stock:\n",
    "    def __init__(self):\n",
    "        self.diccionario = {}\n",
    "\n",
    "    def agregar_elemento(self, nombre, cantidad):\n",
    "        self.diccionario[nombre] = cantidad\n",
    "\n",
    "    def eliminar_elemento(self, nombre):\n",
    "        if nombre in self.diccionario:\n",
    "            del self.diccionario[nombre]\n",
    "\n",
    "    def obtener_diccionario(self):\n",
    "        return self.diccionario\n",
    "\n",
    "stock = Stock()\n",
    "stock.agregar_elemento(\"Manzanas\", 10)\n",
    "stock.agregar_elemento(\"Peras\", 5)\n",
    "stock.agregar_elemento(\"Plátanos\", 8)\n",
    "stock.eliminar_elemento(\"Peras\")\n",
    "print(\"Elementos restantes en el stock:\")\n",
    "print(stock.obtener_diccionario())\n"
   ]
  },
  {
   "cell_type": "markdown",
   "metadata": {},
   "source": [
    "6. Escriba un programa que defina una clase llamada “Automóvil” que tenga los atributos\n",
    "“marca”, “modelo”, “año” y “odómetro”. Al instanciar un objeto deben cargarse los valores\n",
    "de marca, modelo y año, luego cree un método para la clase que permita aumentar el\n",
    "valor del atributo odómetro en una cantidad de kilómetros indicada (add_kms()), ese\n",
    "valor debe incrementar el odómetro del auto instanciado. Instancie dos autos, y con un\n",
    "for de 10 ciclos incremente los kilómetros de cada uno de los odómetros, el del primer\n",
    "auto que se incremente en 10km y el segundo que se incremente en 20kms. Al final\n",
    "obtenga los valores de odómetro de cada automóvil e imprímalos."
   ]
  },
  {
   "cell_type": "code",
   "execution_count": null,
   "metadata": {},
   "outputs": [],
   "source": [
    "class Automovil:\n",
    "    def __init__(self, marca, modelo, ano):\n",
    "        self.marca = marca\n",
    "        self.modelo = modelo\n",
    "        self.ano = ano\n",
    "        self.odometro = 0\n",
    "\n",
    "    def add_kms(self, kms):\n",
    "        self.odometro += kms\n",
    "\n",
    "auto1 = Automovil(\"Toyota\", \"Camry\", 2020)\n",
    "auto2 = Automovil(\"Honda\", \"Civic\", 2019)\n",
    "\n",
    "for i in range(10):\n",
    "    auto1.add_kms(10)\n",
    "    auto2.add_kms(20)\n",
    "\n",
    "print(f\"Odómetro del {auto1.marca} {auto1.modelo}: {auto1.odometro} km\")\n",
    "print(f\"Odómetro del {auto2.marca} {auto2.modelo}: {auto2.odometro} km\")\n"
   ]
  },
  {
   "cell_type": "markdown",
   "metadata": {},
   "source": [
    "7. Escriba un programa que tenga una clase “Billetera”, con los atributos para los objetos\n",
    "que se instancien de “saldo” y una lista llamada “movimientos” que almacene los valores\n",
    "de entrada (números positivos) y salida (números negativos) de dinero de la billetera"
   ]
  },
  {
   "cell_type": "code",
   "execution_count": null,
   "metadata": {},
   "outputs": [],
   "source": [
    "class Billetera:\n",
    "    def __init__(self):\n",
    "        self.saldo = 0\n",
    "        self.movimientos = []\n",
    "\n",
    "    def inc_saldo(self, cantidad):\n",
    "        if cantidad > 0:\n",
    "            self.saldo += cantidad\n",
    "            self.movimientos.append(cantidad)\n",
    "        else:\n",
    "            print(\"Error: La cantidad debe ser positiva.\")\n",
    "\n",
    "    def dec_saldo(self, cantidad):\n",
    "        if cantidad > 0 and self.saldo >= cantidad:\n",
    "            self.saldo -= cantidad\n",
    "            self.movimientos.append(-cantidad)\n",
    "        else:\n",
    "            print(\"Error: La cantidad debe ser positiva y no exceder el saldo actual.\")\n",
    "\n",
    "    def get_saldo(self):\n",
    "        return self.saldo\n",
    "\n",
    "class Persona:\n",
    "    def __init__(self, nombre, apellido):\n",
    "        self.nombre = nombre\n",
    "        self.apellido = apellido\n",
    "        self.billetera = Billetera()\n",
    "\n",
    "    def agregar_dinero(self, cantidad):\n",
    "        self.billetera.inc_saldo(cantidad)\n",
    "\n",
    "    def extraer_dinero(self, cantidad):\n",
    "        self.billetera.dec_saldo(cantidad)\n",
    "\n",
    "    def consultar_saldo(self):\n",
    "        return self.billetera.get_saldo()\n",
    "\n",
    "# Ejemplo de uso\n",
    "persona = Persona(\"Juan\", \"Perez\")\n",
    "persona.agregar_dinero(10)\n",
    "persona.agregar_dinero(20)\n",
    "persona.extraer_dinero(15)\n",
    "persona.agregar_dinero(5)\n",
    "saldo_actual = persona.consultar_saldo()\n",
    "print(f\"Saldo de {persona.nombre} {persona.apellido}: ${saldo_actual}\")\n",
    "\n"
   ]
  },
  {
   "cell_type": "markdown",
   "metadata": {},
   "source": []
  }
 ],
 "metadata": {
  "language_info": {
   "name": "python"
  },
  "orig_nbformat": 4
 },
 "nbformat": 4,
 "nbformat_minor": 2
}
